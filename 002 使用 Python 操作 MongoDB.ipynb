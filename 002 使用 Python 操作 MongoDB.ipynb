{
 "cells": [
  {
   "cell_type": "markdown",
   "metadata": {},
   "source": [
    "# 使用 pymongo 操作 MongoDB"
   ]
  },
  {
   "cell_type": "markdown",
   "metadata": {},
   "source": [
    "[PyMongo 官方文档 - 翻译](https://www.cnblogs.com/zhouxuchen/p/5544227.html)"
   ]
  },
  {
   "cell_type": "markdown",
   "metadata": {},
   "source": [
    "## 增"
   ]
  },
  {
   "cell_type": "code",
   "execution_count": 3,
   "metadata": {},
   "outputs": [
    {
     "name": "stdout",
     "output_type": "stream",
     "text": [
      "[ObjectId('5e475ba304ca2e36d435f7dc'), ObjectId('5e475ba304ca2e36d435f7dd'), ObjectId('5e475ba304ca2e36d435f7de')]\n"
     ]
    }
   ],
   "source": [
    "from pymongo import MongoClient\n",
    "\n",
    "class AddMongo(object):\n",
    "    \n",
    "    def __init__(self):\n",
    "        '''建立连接'''\n",
    "        self.client = MongoClient('mongodb://localhost:27017')\n",
    "        self.db = self.client['demo']\n",
    "    \n",
    "    def add_one(self):\n",
    "        '''新增一条数据'''\n",
    "        post = { 'name':\"bob\", 'age':16, 'sex':\"male\", 'grade':95 }\n",
    "        return self.db.demo.test.insert_one(post)\n",
    "        \n",
    "        \n",
    "    def add_many(self):\n",
    "        '''新增多条数据'''\n",
    "        return self.db.demo.test.insert_many(\n",
    "            [\n",
    "                { 'name':\"bob\", 'age':16, 'sex':\"male\", 'grade':95},\n",
    "                { 'name':\"ahn\", 'age':18, 'sex':\"female\", 'grade':45},\n",
    "                { 'name':\"xi\", 'age':15, 'sex':\"male\", 'grade':75}\n",
    "            ]\n",
    "        )\n",
    "\n",
    "    \n",
    "def main():\n",
    "    obj = AddMongo()\n",
    "    #rest = obj.add_one()\n",
    "    #print(rest.inserted_id)\n",
    "    rest = obj.add_many()\n",
    "    print(rest.inserted_ids)\n",
    "\n",
    "    \n",
    "if __name__ == '__main__':\n",
    "    main()"
   ]
  },
  {
   "cell_type": "markdown",
   "metadata": {},
   "source": [
    "## 查"
   ]
  },
  {
   "cell_type": "code",
   "execution_count": 6,
   "metadata": {},
   "outputs": [
    {
     "name": "stdout",
     "output_type": "stream",
     "text": [
      "{'_id': ObjectId('5e44061d04ca2e36ac2580c0'), 'name': 'bob', 'age': 16, 'sex': 'male', 'grade': 95}\n",
      "{'_id': ObjectId('5e44061d04ca2e36ac2580c2'), 'name': 'xi', 'age': 15, 'sex': 'male', 'grade': 75}\n"
     ]
    }
   ],
   "source": [
    "from pymongo import MongoClient\n",
    "from bson.objectid import ObjectId\n",
    "\n",
    "class SearchMongo(object):\n",
    "    \n",
    "    def __init__(self):\n",
    "        '''建立连接'''\n",
    "        self.client = MongoClient('mongodb://localhost:27017')\n",
    "        self.db = self.client['demo']\n",
    "    \n",
    "    def get_one(self):\n",
    "        '''查询一条效据'''\n",
    "        return self.db.demo.test.find_one()\n",
    "\n",
    "    def get_more(self):\n",
    "        '''查询多条数据'''\n",
    "        return self.db.demo.test.find({'sex': 'male'})\n",
    "    \n",
    "    def get_from_oid(self, oid):\n",
    "        '''根据记录的ID来获取数据'''\n",
    "        #from bson.objectid import ObjectId\n",
    "        return self.db.demo.test.find_one({'_id': ObjectId(oid)})\n",
    "\n",
    "    \n",
    "def main():\n",
    "    obj = SearchMongo()\n",
    "    #rest = obj.get_one()\n",
    "    #print(rest)\n",
    "    rest = obj.get_more()\n",
    "    for item in rest:\n",
    "        print(item)\n",
    "    #rest = obj.get_from_oid('5e44061d04ca2e36ac2580c0')\n",
    "    #print(rest)\n",
    "\n",
    "    \n",
    "if __name__ == '__main__':\n",
    "    main()"
   ]
  },
  {
   "cell_type": "markdown",
   "metadata": {},
   "source": [
    "## 改"
   ]
  },
  {
   "cell_type": "code",
   "execution_count": 11,
   "metadata": {},
   "outputs": [
    {
     "name": "stdout",
     "output_type": "stream",
     "text": [
      "1\n",
      "1\n"
     ]
    }
   ],
   "source": [
    "from pymongo import MongoClient\n",
    "\n",
    "class ModifyMongo(object):\n",
    "    \n",
    "    def __init__(self):\n",
    "        '''建立连接'''\n",
    "        self.client = MongoClient('mongodb://localhost:27017')\n",
    "        self.db = self.client['demo']\n",
    "    \n",
    "    def update_one(self):\n",
    "        '''修改一条数据'''\n",
    "        rest = self.db.demo.test.update_one({'name': \"bob\"}, {'$set': {'age':20}})\n",
    "        return rest\n",
    "    \n",
    "    def update_many(self):\n",
    "        '''修改多条数据'''\n",
    "        rest = self.db.demo.test.update_many({'sex': 'male'}, {'$inc': {'grade':1}}) # 所有男性成绩增加1\n",
    "        return rest\n",
    "\n",
    "    \n",
    "def main():\n",
    "    obj = ModifyMongo()\n",
    "    rest = obj.update_one()\n",
    "    #rest = obj.update_many()\n",
    "    print(rest.matched_count)\n",
    "    print(rest.modified_count)\n",
    "    \n",
    "    \n",
    "if __name__ == '__main__':\n",
    "    main()"
   ]
  },
  {
   "cell_type": "markdown",
   "metadata": {},
   "source": [
    "## 删"
   ]
  },
  {
   "cell_type": "code",
   "execution_count": 13,
   "metadata": {},
   "outputs": [
    {
     "name": "stdout",
     "output_type": "stream",
     "text": [
      "2\n"
     ]
    }
   ],
   "source": [
    "from pymongo import MongoClient\n",
    "\n",
    "class DeleteMongo(object):\n",
    "    \n",
    "    def __init__(self):\n",
    "        '''建立连接'''\n",
    "        self.client = MongoClient('mongodb://localhost:27017')\n",
    "        self.db = self.client['demo']\n",
    "    \n",
    "    def delete_one(self):\n",
    "        '''删除一条数据'''\n",
    "        rest = self.db.demo.test.delete_one({'name': 'ahn'})\n",
    "        return rest\n",
    "\n",
    "    def delete_many(self):\n",
    "        '''删除多条数据'''\n",
    "        rest = self.db.demo.test.delete_many({'sex': 'male'})\n",
    "        return rest\n",
    "\n",
    "    \n",
    "def main():\n",
    "    obj = DeleteMongo()\n",
    "    #rest = obj.delete_one()\n",
    "    rest = obj.delete_many()\n",
    "    print(rest.deleted_count)\n",
    "    \n",
    "    \n",
    "if __name__ == '__main__':\n",
    "    main()"
   ]
  },
  {
   "cell_type": "markdown",
   "metadata": {},
   "source": [
    "# 使用 mongoengine 操作 MongoDB"
   ]
  },
  {
   "cell_type": "markdown",
   "metadata": {},
   "source": [
    "[MongoEngine 官方文档](http://docs.mongoengine.org/tutorial.html)"
   ]
  },
  {
   "cell_type": "markdown",
   "metadata": {},
   "source": [
    "## ODM 简介"
   ]
  },
  {
   "cell_type": "markdown",
   "metadata": {},
   "source": [
    "MongoEngine 是一个对象文档映射器（ODM），它大致相当于一个基于SQL的对象关系映射器（ORM）。MongoEngine提供的抽象是基于类的，所以你创建的所有模型都是类。"
   ]
  },
  {
   "cell_type": "code",
   "execution_count": 14,
   "metadata": {
    "scrolled": true
   },
   "outputs": [
    {
     "name": "stdout",
     "output_type": "stream",
     "text": [
      "Collecting mongoengine\n",
      "  Downloading https://files.pythonhosted.org/packages/ab/39/7470829474358415badc286b468d79cc2bff3caacbaf70e61eeddac58985/mongoengine-0.19.1.tar.gz (157kB)\n",
      "Requirement already satisfied: pymongo>=3.4 in c:\\users\\diviner\\anaconda3\\lib\\site-packages (from mongoengine) (3.7.2)\n",
      "Requirement already satisfied: six>=1.10.0 in c:\\users\\diviner\\anaconda3\\lib\\site-packages (from mongoengine) (1.11.0)\n",
      "Building wheels for collected packages: mongoengine\n",
      "  Building wheel for mongoengine (setup.py): started\n",
      "  Building wheel for mongoengine (setup.py): finished with status 'done'\n",
      "  Stored in directory: C:\\Users\\Diviner\\AppData\\Local\\pip\\Cache\\wheels\\0b\\72\\ba\\e868acd0336c3800dae82e7a83d6e6c22cf20364a692514626\n",
      "Successfully built mongoengine\n",
      "Installing collected packages: mongoengine\n",
      "Successfully installed mongoengine-0.19.1\n"
     ]
    },
    {
     "name": "stderr",
     "output_type": "stream",
     "text": [
      "  Retrying (Retry(total=4, connect=None, read=None, redirect=None, status=None)) after connection broken by 'ReadTimeoutError(\"HTTPSConnectionPool(host='pypi.org', port=443): Read timed out. (read timeout=15)\")': /simple/mongoengine/\n",
      "You are using pip version 19.0.3, however version 20.0.2 is available.\n",
      "You should consider upgrading via the 'python -m pip install --upgrade pip' command.\n"
     ]
    }
   ],
   "source": [
    "!pip install mongoengine"
   ]
  },
  {
   "cell_type": "markdown",
   "metadata": {},
   "source": [
    "### 连接数据库"
   ]
  },
  {
   "cell_type": "code",
   "execution_count": 1,
   "metadata": {},
   "outputs": [
    {
     "data": {
      "text/plain": [
       "MongoClient(host=['localhost:27017'], document_class=dict, tz_aware=False, connect=True, read_preference=Primary())"
      ]
     },
     "execution_count": 1,
     "metadata": {},
     "output_type": "execute_result"
    }
   ],
   "source": [
    "from mongoengine import connect\n",
    "\n",
    "connect(\n",
    "    db = 'demo',\n",
    "    host = 'mongodb://localhost:27017'\n",
    ")"
   ]
  },
  {
   "cell_type": "markdown",
   "metadata": {},
   "source": [
    "### 定义模型"
   ]
  },
  {
   "cell_type": "code",
   "execution_count": 2,
   "metadata": {},
   "outputs": [],
   "source": [
    "from mongoengine import *\n",
    "\n",
    "SEX_CHOICES = (\n",
    "    ('male', '男'),\n",
    "    ('female', '女')\n",
    ")\n",
    "\n",
    "class Grade(EmbeddedDocument):\n",
    "    '''成绩'''\n",
    "    subject = StringField(max_length=200, required=True)\n",
    "    score = FloatField(required=True)\n",
    "\n",
    "class Test(Document):\n",
    "    name = StringField(max_length=200, required=True)\n",
    "    age = IntField(required=True)\n",
    "    sex = StringField(choices=SEX_CHOICES, required=True)\n",
    "    grade = ListField(EmbeddedDocumentField(Grade))"
   ]
  },
  {
   "cell_type": "markdown",
   "metadata": {},
   "source": [
    "## 增"
   ]
  },
  {
   "cell_type": "code",
   "execution_count": 31,
   "metadata": {},
   "outputs": [
    {
     "name": "stdout",
     "output_type": "stream",
     "text": [
      "5e47671504ca2e36d435f7e3\n"
     ]
    }
   ],
   "source": [
    "from mongoengine import *\n",
    "\n",
    "# 连接数据库\n",
    "connect(\n",
    "    db = 'demo',\n",
    "    host = 'mongodb://localhost:27017'\n",
    ")\n",
    "\n",
    "# 定义模型\n",
    "SEX_CHOICES = (\n",
    "    ('male', '男'),\n",
    "    ('female', '女')\n",
    ")\n",
    "\n",
    "class Grade(EmbeddedDocument):\n",
    "    '''成绩'''\n",
    "    subject = StringField(max_length=200, required=True)\n",
    "    score = FloatField(required=True)\n",
    "\n",
    "class Student(Document):\n",
    "    name = StringField(max_length=200, required=True)\n",
    "    age = IntField(required=True)\n",
    "    sex = StringField(choices=SEX_CHOICES, required=True)\n",
    "    grade = ListField(EmbeddedDocumentField(Grade))\n",
    "    \n",
    "    meta = {\n",
    "        'collection': 'students'\n",
    "    }\n",
    "    \n",
    "    \n",
    "class TestMongoEngine(object):\n",
    "    \n",
    "    def add_one(self):\n",
    "        '''新增一条记录'''\n",
    "        math = Grade(subject='数学', score=95)\n",
    "        stu_obj = Student(name=\"bob2\", age=18, sex=\"female\", grade=[math])\n",
    "        stu_obj.save()\n",
    "        return stu_obj\n",
    "    \n",
    "\n",
    "def main():\n",
    "    obj = TestMongoEngine()\n",
    "    rest = obj.add_one()\n",
    "    print(rest.pk)\n",
    "    \n",
    "    \n",
    "if __name__ == '__main__':\n",
    "    main()"
   ]
  },
  {
   "cell_type": "markdown",
   "metadata": {},
   "source": [
    "## 查"
   ]
  },
  {
   "cell_type": "code",
   "execution_count": 37,
   "metadata": {},
   "outputs": [
    {
     "name": "stdout",
     "output_type": "stream",
     "text": [
      "16\n",
      "16\n",
      "16\n",
      "18\n"
     ]
    }
   ],
   "source": [
    "from mongoengine import *\n",
    "\n",
    "# 连接数据库\n",
    "connect(\n",
    "    db = 'demo',\n",
    "    host = 'mongodb://localhost:27017'\n",
    ")\n",
    "\n",
    "# 定义模型\n",
    "SEX_CHOICES = (\n",
    "    ('male', '男'),\n",
    "    ('female', '女')\n",
    ")\n",
    "\n",
    "class Grade(EmbeddedDocument):\n",
    "    '''成绩'''\n",
    "    subject = StringField(max_length=200, required=True)\n",
    "    score = FloatField(required=True)\n",
    "\n",
    "class Student(Document):\n",
    "    name = StringField(max_length=200, required=True)\n",
    "    age = IntField(required=True)\n",
    "    sex = StringField(choices=SEX_CHOICES, required=True)\n",
    "    grade = ListField(EmbeddedDocumentField(Grade))\n",
    "    \n",
    "    meta = {\n",
    "        'collection': 'students',  # 存入数据库中的 students 文档\n",
    "    }\n",
    "    \n",
    "    \n",
    "class TestMongoEngine(object):\n",
    "    \n",
    "    def get_one(self):\n",
    "        '''查询一条记录'''\n",
    "        return Student.objects.first()\n",
    "    \n",
    "    def get_more(self):\n",
    "        '''查询一条记录'''\n",
    "        return Student.objects.filter(name='bob2').order_by('+age').all()\n",
    "    \n",
    "    def get_from_oid(self, oid):\n",
    "        '''根据id查询数据'''\n",
    "        return Student.objects.filter(pk=oid).first()\n",
    "    \n",
    "\n",
    "def main():\n",
    "    obj = TestMongoEngine()\n",
    "    \n",
    "    #rest = obj.get_one()\n",
    "    #print(rest.id)\n",
    "    #print(rest.name)\n",
    "    \n",
    "    rest = obj.get_more()\n",
    "    for item in rest:\n",
    "        print(item.age)\n",
    "    \n",
    "    #rest = obj.get_from_oid('5e47605b04ca2e36d435f7e0')\n",
    "    #print(rest.id)\n",
    "    #print(rest.name)\n",
    "    \n",
    "    \n",
    "if __name__ == '__main__':\n",
    "    main()"
   ]
  },
  {
   "cell_type": "markdown",
   "metadata": {},
   "source": [
    "## 改"
   ]
  },
  {
   "cell_type": "code",
   "execution_count": 40,
   "metadata": {},
   "outputs": [
    {
     "name": "stdout",
     "output_type": "stream",
     "text": [
      "4\n"
     ]
    }
   ],
   "source": [
    "from mongoengine import *\n",
    "\n",
    "# 连接数据库\n",
    "connect(\n",
    "    db = 'demo',\n",
    "    host = 'mongodb://localhost:27017'\n",
    ")\n",
    "\n",
    "# 定义模型\n",
    "SEX_CHOICES = (\n",
    "    ('male', '男'),\n",
    "    ('female', '女')\n",
    ")\n",
    "\n",
    "class Grade(EmbeddedDocument):\n",
    "    '''成绩'''\n",
    "    subject = StringField(max_length=200, required=True)\n",
    "    score = FloatField(required=True)\n",
    "\n",
    "class Student(Document):\n",
    "    name = StringField(max_length=200, required=True)\n",
    "    age = IntField(required=True)\n",
    "    sex = StringField(choices=SEX_CHOICES, required=True)\n",
    "    grade = ListField(EmbeddedDocumentField(Grade))\n",
    "    \n",
    "    meta = {\n",
    "        'collection': 'students'\n",
    "    }\n",
    "    \n",
    "    \n",
    "class TestMongoEngine(object):\n",
    "    \n",
    "    def update(self):\n",
    "        '''修改数据'''\n",
    "        # 修改一条数据\n",
    "        # rest = Student.objects.filter(name='bob2').update_one(inc__age=1)\n",
    "        # return rest\n",
    "        # 修改多条数据\n",
    "        rest = Student.objects.filter(name='bob2').update(inc__age=1)\n",
    "        return rest \n",
    "    \n",
    "\n",
    "def main():\n",
    "    obj = TestMongoEngine()\n",
    "    rest = obj.update()\n",
    "    print(rest)  # 影响的行数\n",
    "    \n",
    "    \n",
    "if __name__ == '__main__':\n",
    "    main()"
   ]
  },
  {
   "cell_type": "markdown",
   "metadata": {},
   "source": [
    "## 删"
   ]
  },
  {
   "cell_type": "code",
   "execution_count": 41,
   "metadata": {},
   "outputs": [
    {
     "name": "stdout",
     "output_type": "stream",
     "text": [
      "4\n"
     ]
    }
   ],
   "source": [
    "from mongoengine import *\n",
    "\n",
    "# 连接数据库\n",
    "connect(\n",
    "    db = 'demo',\n",
    "    host = 'mongodb://localhost:27017'\n",
    ")\n",
    "\n",
    "# 定义模型\n",
    "SEX_CHOICES = (\n",
    "    ('male', '男'),\n",
    "    ('female', '女')\n",
    ")\n",
    "\n",
    "class Grade(EmbeddedDocument):\n",
    "    '''成绩'''\n",
    "    subject = StringField(max_length=200, required=True)\n",
    "    score = FloatField(required=True)\n",
    "\n",
    "class Student(Document):\n",
    "    name = StringField(max_length=200, required=True)\n",
    "    age = IntField(required=True)\n",
    "    sex = StringField(choices=SEX_CHOICES, required=True)\n",
    "    grade = ListField(EmbeddedDocumentField(Grade))\n",
    "    \n",
    "    meta = {\n",
    "        'collection': 'students'\n",
    "    }\n",
    "    \n",
    "    \n",
    "class TestMongoEngine(object):\n",
    "    \n",
    "    def delete(self):\n",
    "        '''删除数据'''\n",
    "        # 删除一条数据\n",
    "        # return Student.objects.filter(name='bob2').first().delete()\n",
    "        # 删除多条数据\n",
    "        return Student.objects.filter(name='bob2').delete()\n",
    "    \n",
    "\n",
    "def main():\n",
    "    obj = TestMongoEngine()\n",
    "    rest = obj.delete()\n",
    "    print(rest)\n",
    "    \n",
    "    \n",
    "if __name__ == '__main__':\n",
    "    main()"
   ]
  },
  {
   "cell_type": "markdown",
   "metadata": {},
   "source": [
    "# 数据实例"
   ]
  },
  {
   "cell_type": "code",
   "execution_count": null,
   "metadata": {},
   "outputs": [],
   "source": [
    "db.demo.insertMany(\n",
    "    [\n",
    "        { name:\"bob\", age:16, sex:\"male\", grade:95},\n",
    "        { name:\"ahn\", age:18, sex:\"female\", grade:45},\n",
    "        { name:\"xi\", age:15, sex:\"male\", grade:75},\n",
    "        { name:\"bob1\", age:16, sex:\"male\", grade:95},\n",
    "        { name:\"ahn1\", age:18, sex:\"male\", grade:45},\n",
    "        { name:\"xi1\", age:15, sex:\"female\", grade:55},\n",
    "        { name:\"bob2\", age:16, sex:\"female\", grade:95},\n",
    "        { name:\"ahn2\", age:18, sex:\"male\", grade:60},\n",
    "        { name:\"xi2\", age:15, sex:\"male\", grade:75},\n",
    "        { name:\"bob3\", age:16, sex:\"male\", grade:95},\n",
    "        { name:\"ahn3\", age:18, sex:\"female\", grade:45},\n",
    "        { name:\"xi3\", age:15, sex:\"male\", grade:85},\n",
    "        { name:\"bob4\", age:16, sex:\"female\", grade:95},\n",
    "        { name:\"ahn4\", age:18, sex:\"male\", grade:45},\n",
    "        { name:\"xi4\", age:15, sex:\"male\", grade:75}\n",
    "    ]\n",
    ")"
   ]
  }
 ],
 "metadata": {
  "kernelspec": {
   "display_name": "Python 3",
   "language": "python",
   "name": "python3"
  },
  "language_info": {
   "codemirror_mode": {
    "name": "ipython",
    "version": 3
   },
   "file_extension": ".py",
   "mimetype": "text/x-python",
   "name": "python",
   "nbconvert_exporter": "python",
   "pygments_lexer": "ipython3",
   "version": "3.7.0"
  },
  "toc": {
   "base_numbering": 1,
   "nav_menu": {},
   "number_sections": true,
   "sideBar": true,
   "skip_h1_title": false,
   "title_cell": "Table of Contents",
   "title_sidebar": "Contents",
   "toc_cell": false,
   "toc_position": {},
   "toc_section_display": true,
   "toc_window_display": true
  }
 },
 "nbformat": 4,
 "nbformat_minor": 2
}
