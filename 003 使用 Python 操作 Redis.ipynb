{
 "cells": [
  {
   "cell_type": "markdown",
   "metadata": {},
   "source": [
    "[redis 中文官网](http://www.redis.cn/)"
   ]
  },
  {
   "cell_type": "markdown",
   "metadata": {},
   "source": [
    "# Redis 常用操作"
   ]
  },
  {
   "cell_type": "markdown",
   "metadata": {},
   "source": [
    "## 字符串（String）相关操作"
   ]
  },
  {
   "cell_type": "markdown",
   "metadata": {},
   "source": [
    "````\n",
    "```redis\n",
    "# set：设置键值对\n",
    "# get：获取键值对\n",
    "set animal 'Cat'\n",
    "get animal people\n",
    "\n",
    "# mset：设置多个键值对\n",
    "# mget：获取多个键值对\n",
    "mset stu1 'Bob' stu2 'Amy'\n",
    "mget stu1 stu2\n",
    "\n",
    "# append：追加字符串\n",
    "# del：删除\n",
    "append animal ' Dog'\n",
    "del animal\n",
    "\n",
    "# incr/decr：增加/减少1\n",
    "set num 10\n",
    "incr num\n",
    "```\n",
    "````"
   ]
  },
  {
   "cell_type": "markdown",
   "metadata": {},
   "source": [
    "## 列表（List）相关操作"
   ]
  },
  {
   "cell_type": "markdown",
   "metadata": {},
   "source": [
    "````\n",
    "```redis\n",
    "# lpush/rpush：从左/右插入数据\n",
    "lpush q1 'John' 'Bob' 'Amy'\n",
    "\n",
    "# lrange：获取指定长度的数据（不修改原数据）\n",
    "lrange q1 0 -1\n",
    "\n",
    "# ltrim：截留一定长度的数据（修改原数据）\n",
    "ltrim q1 0 1\n",
    "\n",
    "# lpop/rpop：移除最左/右的元素并返回\n",
    "lpop q1\n",
    "\n",
    "# lpushx/rpushx：key存在时才插入数据，不存在时不做任何处理\n",
    "```\n",
    "````"
   ]
  },
  {
   "cell_type": "markdown",
   "metadata": {},
   "source": [
    "## 集合（Set）相关操作"
   ]
  },
  {
   "cell_type": "markdown",
   "metadata": {},
   "source": [
    "````\n",
    "```redis\n",
    "# sadd/srem：添加/删除元素\n",
    "sadd zoo 'Dog' 'Cat'\n",
    "\n",
    "# smembers：返回该集合的所有成员\n",
    "smembers zoo\n",
    "\n",
    "# sismember：判断是否为 set 的一个元素\n",
    "sismember zoo 'Cat'\n",
    "\n",
    "# sdiff：返回一个集合与其他集合的差异\n",
    "sadd zoo2 'Dog' 'Cat' 'Snake'\n",
    "sdiff zoo2 zoo\n",
    "\n",
    "# sinter：返回几个集合的交集\n",
    "sinter zoo zoo2\n",
    "\n",
    "# sunion：返回几个集合的并集\n",
    "sunion zoo zoo2\n",
    "```\n",
    "````"
   ]
  },
  {
   "cell_type": "markdown",
   "metadata": {},
   "source": [
    "## 散列（Hash）相关操作"
   ]
  },
  {
   "cell_type": "markdown",
   "metadata": {},
   "source": [
    "````\n",
    "```redis\n",
    "# hset/hget：设置/获取散列值\n",
    "# hsetnx：如果散列已经存在，则不设置\n",
    "hset news:1 title \"News Title\"\n",
    "hset news:1 content \"News Content\"\n",
    "\n",
    "# hmset/hmget：设置/获取多对散列值\n",
    "hmget news:1 title content\n",
    "\n",
    "# hkeys/hvals：返回所有的 keys/values\n",
    "hkeys news:1\n",
    "hvals news:1\n",
    "\n",
    "# hlen：返回散列包含域（filed）的数量\n",
    "hlen news:1\n",
    "\n",
    "# hdel：删除散列指定的域（filed）\n",
    "hdel news:1 title\n",
    "\n",
    "# hexists：判断是否存在\n",
    "hexists news:1 title\n",
    "```\n",
    "````"
   ]
  },
  {
   "cell_type": "markdown",
   "metadata": {},
   "source": [
    "# 使用 redis-py 操作 Redis"
   ]
  },
  {
   "cell_type": "markdown",
   "metadata": {},
   "source": [
    "[redis-py 的 Github 页面](https://github.com/andymccurdy/redis-py)"
   ]
  },
  {
   "cell_type": "markdown",
   "metadata": {},
   "source": [
    "## 安装及连接"
   ]
  },
  {
   "cell_type": "code",
   "execution_count": 1,
   "metadata": {},
   "outputs": [],
   "source": [
    "import redis\n",
    "\n",
    "r = redis.Redis(host='localhost', port=6379, db=0)"
   ]
  },
  {
   "cell_type": "markdown",
   "metadata": {},
   "source": [
    "## 常用操作实现"
   ]
  },
  {
   "cell_type": "code",
   "execution_count": 3,
   "metadata": {},
   "outputs": [
    {
     "data": {
      "text/plain": [
       "[True, b'bar']"
      ]
     },
     "execution_count": 3,
     "metadata": {},
     "output_type": "execute_result"
    }
   ],
   "source": [
    "# r.set('foo', 'bar')\n",
    "# r.get('foo')\n",
    "pipe = r.pipeline()\n",
    "pipe.set('foo', 'bar')\n",
    "pipe.get('foo')\n",
    "pipe.execute()"
   ]
  },
  {
   "cell_type": "markdown",
   "metadata": {},
   "source": [
    "### String 操作"
   ]
  },
  {
   "cell_type": "code",
   "execution_count": 15,
   "metadata": {},
   "outputs": [
    {
     "name": "stdout",
     "output_type": "stream",
     "text": [
      "[b'Bob', b'John']\n"
     ]
    }
   ],
   "source": [
    "import redis\n",
    "\n",
    "class TestString(object):\n",
    "    '''\n",
    "    append -- 添加字符串\n",
    "    incr/decr -- 增加/减少1\n",
    "    '''\n",
    "\n",
    "    def __init__(self):\n",
    "        self.r = redis.Redis(host='localhost', port=6379, db=0)\n",
    "\n",
    "    def test_set(self):\n",
    "        '''set -- 设置值'''\n",
    "        return self.r.set('user1', 'Amy')\n",
    "        \n",
    "    def test_get(self):\n",
    "        '''get -- 获取值'''\n",
    "        return self.r.get('user1')\n",
    "    \n",
    "    def test_mset(self):\n",
    "        '''mset -- 设置多个键值对'''\n",
    "        # dict\n",
    "        d = {\n",
    "            'user2': 'Bob',\n",
    "            'user3': 'John'\n",
    "        }\n",
    "        return self.r.mset(d)\n",
    "    \n",
    "    def test_mget(self):\n",
    "        '''mget -- 获取多个键值对'''\n",
    "        # list\n",
    "        l = ['user2', 'user3']\n",
    "        return self.r.mget(l)\n",
    "        \n",
    "    def test_del(self):\n",
    "        '''del -- 删除'''\n",
    "        return self.r.delete('user1')\n",
    "        \n",
    "def main():\n",
    "    str_obj = TestString()\n",
    "    # rest = str_obj.test_set()\n",
    "    rest = str_obj.test_mget()\n",
    "    #rest = str_obj.test_del()\n",
    "    print(rest)\n",
    "    \n",
    "    \n",
    "if __name__ == '__main__':\n",
    "    main()"
   ]
  },
  {
   "cell_type": "markdown",
   "metadata": {},
   "source": [
    "### List 操作"
   ]
  },
  {
   "cell_type": "code",
   "execution_count": 5,
   "metadata": {},
   "outputs": [
    {
     "name": "stdout",
     "output_type": "stream",
     "text": [
      "[b'Amy']\n"
     ]
    }
   ],
   "source": [
    "import redis\n",
    "\n",
    "class TestList(object):\n",
    "    '''\n",
    "    ltrim：截留一定长度的数据（修改原数据）\n",
    "    lpushx/rpushx：key存在时才插入数据，不存在时不做任何处理\n",
    "    '''\n",
    "\n",
    "    def __init__(self):\n",
    "        self.r = redis.Redis(host='localhost', port=6379, db=0)\n",
    "\n",
    "    def test_push(self):\n",
    "        '''\n",
    "        lpush/rpush：从左/右插入数据\n",
    "        lrange：获取指定长度的数据（不修改原数据）\n",
    "        '''\n",
    "        t = ('Amy', 'John')\n",
    "        rest = self.r.lpush('l_stu', *t)\n",
    "        rest = self.r.lrange('l_stu', 0, -1)\n",
    "        return rest\n",
    "        \n",
    "    def test_pop(self):\n",
    "        '''lpop/rpop：移除最左/右的元素并返回'''\n",
    "        rest = self.r.lpop('l_stu')\n",
    "        rest = self.r.lrange('l_stu', 0, -1)\n",
    "        return rest\n",
    "    \n",
    "        \n",
    "def main():\n",
    "    list_obj = TestList()\n",
    "    #rest = list_obj.test_push()\n",
    "    rest = list_obj.test_pop()\n",
    "    print(rest)\n",
    "    \n",
    "    \n",
    "if __name__ == '__main__':\n",
    "    main()"
   ]
  },
  {
   "cell_type": "markdown",
   "metadata": {},
   "source": [
    "### Set 操作"
   ]
  },
  {
   "cell_type": "code",
   "execution_count": 11,
   "metadata": {},
   "outputs": [
    {
     "name": "stdout",
     "output_type": "stream",
     "text": [
      "{b'Cat'}\n"
     ]
    }
   ],
   "source": [
    "import redis\n",
    "\n",
    "class TestSet(object):\n",
    "    '''\n",
    "    sdiff：返回一个集合与其他集合的差异\n",
    "    sunion：返回几个集合的并集\n",
    "    '''\n",
    "\n",
    "    def __init__(self):\n",
    "        self.r = redis.Redis(host='localhost', port=6379, db=0)\n",
    "\n",
    "    def test_sadd(self):\n",
    "        '''\n",
    "        sadd：添加元素\n",
    "        smembers：返回该集合的所有成员\n",
    "        '''\n",
    "        l = ['Dog', 'Cat']\n",
    "        rest = self.r.sadd('l_zoo', *l)\n",
    "        rest = self.r.smembers('l_zoo')\n",
    "        return rest\n",
    "\n",
    "    def test_srem(self):\n",
    "        '''\n",
    "        srem：删除元素\n",
    "        sismember：判断是否为 set 的一个元素\n",
    "        '''\n",
    "        rest = self.r.srem('l_zoo', 'Dog')\n",
    "        rest = self.r.smembers('l_zoo')\n",
    "        return rest\n",
    "    \n",
    "    def test_sinter(self):\n",
    "        '''\n",
    "        sinter：返回几个集合的交集\n",
    "        '''\n",
    "        l = ['Snake', 'Cat']\n",
    "        rest = self.r.sadd('l_zoo2', *l)\n",
    "        rest = self.r.sinter('l_zoo2', 'l_zoo')\n",
    "        return rest\n",
    "    \n",
    "        \n",
    "def main():\n",
    "    set_obj = TestSet()\n",
    "    rest = set_obj.test_sinter()\n",
    "    print(rest)\n",
    "    \n",
    "    \n",
    "if __name__ == '__main__':\n",
    "    main()"
   ]
  }
 ],
 "metadata": {
  "kernelspec": {
   "display_name": "Python 3",
   "language": "python",
   "name": "python3"
  },
  "language_info": {
   "codemirror_mode": {
    "name": "ipython",
    "version": 3
   },
   "file_extension": ".py",
   "mimetype": "text/x-python",
   "name": "python",
   "nbconvert_exporter": "python",
   "pygments_lexer": "ipython3",
   "version": "3.7.0"
  },
  "toc": {
   "base_numbering": 1,
   "nav_menu": {},
   "number_sections": true,
   "sideBar": true,
   "skip_h1_title": false,
   "title_cell": "Table of Contents",
   "title_sidebar": "Contents",
   "toc_cell": false,
   "toc_position": {},
   "toc_section_display": true,
   "toc_window_display": true
  }
 },
 "nbformat": 4,
 "nbformat_minor": 2
}
